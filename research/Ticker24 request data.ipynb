{
 "cells": [
  {
   "cell_type": "markdown",
   "metadata": {},
   "source": [
    "## Ticker 24 Rest API call"
   ]
  },
  {
   "cell_type": "markdown",
   "metadata": {},
   "source": [
    "Data here will show all cryptocurrencies actual prices.\n",
    "- Peform operations on all cryptos with this endpoint"
   ]
  },
  {
   "cell_type": "code",
   "execution_count": 2,
   "metadata": {},
   "outputs": [],
   "source": [
    "base = 'https://api.binance.com'\n",
    "ticker24 = '/api/v1/ticker/24hr'\n",
    "candlestick = '/api/v1/klines'\n",
    "dateFormat = '%d/%m/%Y'"
   ]
  },
  {
   "cell_type": "code",
   "execution_count": 13,
   "metadata": {},
   "outputs": [],
   "source": [
    "import urllib.request as r\n",
    "import json\n",
    "import pandas as pd\n",
    "httpRes = r.urlopen(base + ticker24)\n",
    "data = json.load(httpRes)\n",
    "df = pd.DataFrame(data)"
   ]
  },
  {
   "cell_type": "code",
   "execution_count": 14,
   "metadata": {},
   "outputs": [],
   "source": [
    "df.head()\n",
    "original_data = df;"
   ]
  },
  {
   "cell_type": "markdown",
   "metadata": {},
   "source": [
    "We do not need all the data, take only:\n",
    "- closeTime\n",
    "- highPrice\n",
    "- lastPrice\n",
    "- lowPrice\n",
    "- openPrice\n",
    "- prevClosePrice\n",
    "- priceChange\n",
    "- priceChangePercent\n",
    "- quoteVolume\n",
    "- symbol\n",
    "- volume\n",
    "- weightedAvgPrice"
   ]
  },
  {
   "cell_type": "code",
   "execution_count": 15,
   "metadata": {},
   "outputs": [],
   "source": [
    "#processing data\n",
    "ohlc_df = df[['closeTime', 'highPrice','lowPrice','openPrice', 'prevClosePrice','symbol']]"
   ]
  },
  {
   "cell_type": "code",
   "execution_count": 16,
   "metadata": {},
   "outputs": [
    {
     "name": "stderr",
     "output_type": "stream",
     "text": [
      "C:\\Users\\cwu\\AppData\\Local\\Continuum\\anaconda3\\lib\\site-packages\\ipykernel_launcher.py:1: SettingWithCopyWarning: \n",
      "A value is trying to be set on a copy of a slice from a DataFrame.\n",
      "Try using .loc[row_indexer,col_indexer] = value instead\n",
      "\n",
      "See the caveats in the documentation: http://pandas.pydata.org/pandas-docs/stable/indexing.html#indexing-view-versus-copy\n",
      "  \"\"\"Entry point for launching an IPython kernel.\n"
     ]
    },
    {
     "data": {
      "text/html": [
       "<div>\n",
       "<style scoped>\n",
       "    .dataframe tbody tr th:only-of-type {\n",
       "        vertical-align: middle;\n",
       "    }\n",
       "\n",
       "    .dataframe tbody tr th {\n",
       "        vertical-align: top;\n",
       "    }\n",
       "\n",
       "    .dataframe thead th {\n",
       "        text-align: right;\n",
       "    }\n",
       "</style>\n",
       "<table border=\"1\" class=\"dataframe\">\n",
       "  <thead>\n",
       "    <tr style=\"text-align: right;\">\n",
       "      <th></th>\n",
       "      <th>closeTime</th>\n",
       "      <th>highPrice</th>\n",
       "      <th>lowPrice</th>\n",
       "      <th>openPrice</th>\n",
       "      <th>prevClosePrice</th>\n",
       "      <th>symbol</th>\n",
       "    </tr>\n",
       "  </thead>\n",
       "  <tbody>\n",
       "    <tr>\n",
       "      <th>0</th>\n",
       "      <td>2019-02-27 12:46:58.446</td>\n",
       "      <td>0.03627500</td>\n",
       "      <td>0.03527200</td>\n",
       "      <td>0.03563000</td>\n",
       "      <td>0.03563700</td>\n",
       "      <td>ETHBTC</td>\n",
       "    </tr>\n",
       "    <tr>\n",
       "      <th>1</th>\n",
       "      <td>2019-02-27 12:46:55.405</td>\n",
       "      <td>0.01188400</td>\n",
       "      <td>0.01159800</td>\n",
       "      <td>0.01180100</td>\n",
       "      <td>0.01180300</td>\n",
       "      <td>LTCBTC</td>\n",
       "    </tr>\n",
       "    <tr>\n",
       "      <th>2</th>\n",
       "      <td>2019-02-27 12:46:58.281</td>\n",
       "      <td>0.00257120</td>\n",
       "      <td>0.00245800</td>\n",
       "      <td>0.00246690</td>\n",
       "      <td>0.00246550</td>\n",
       "      <td>BNBBTC</td>\n",
       "    </tr>\n",
       "    <tr>\n",
       "      <th>3</th>\n",
       "      <td>2019-02-27 12:46:58.439</td>\n",
       "      <td>0.00239400</td>\n",
       "      <td>0.00233000</td>\n",
       "      <td>0.00235000</td>\n",
       "      <td>0.00235000</td>\n",
       "      <td>NEOBTC</td>\n",
       "    </tr>\n",
       "    <tr>\n",
       "      <th>4</th>\n",
       "      <td>2019-02-27 12:46:52.998</td>\n",
       "      <td>0.01535300</td>\n",
       "      <td>0.01499000</td>\n",
       "      <td>0.01517900</td>\n",
       "      <td>0.01518700</td>\n",
       "      <td>QTUMETH</td>\n",
       "    </tr>\n",
       "  </tbody>\n",
       "</table>\n",
       "</div>"
      ],
      "text/plain": [
       "                closeTime   highPrice    lowPrice   openPrice prevClosePrice  \\\n",
       "0 2019-02-27 12:46:58.446  0.03627500  0.03527200  0.03563000     0.03563700   \n",
       "1 2019-02-27 12:46:55.405  0.01188400  0.01159800  0.01180100     0.01180300   \n",
       "2 2019-02-27 12:46:58.281  0.00257120  0.00245800  0.00246690     0.00246550   \n",
       "3 2019-02-27 12:46:58.439  0.00239400  0.00233000  0.00235000     0.00235000   \n",
       "4 2019-02-27 12:46:52.998  0.01535300  0.01499000  0.01517900     0.01518700   \n",
       "\n",
       "    symbol  \n",
       "0   ETHBTC  \n",
       "1   LTCBTC  \n",
       "2   BNBBTC  \n",
       "3   NEOBTC  \n",
       "4  QTUMETH  "
      ]
     },
     "execution_count": 16,
     "metadata": {},
     "output_type": "execute_result"
    }
   ],
   "source": [
    "ohlc_df['closeTime'] = pd.to_datetime(ohlc_df['closeTime'], unit='ms')\n",
    "ohlc_df.head()"
   ]
  },
  {
   "cell_type": "code",
   "execution_count": 17,
   "metadata": {},
   "outputs": [
    {
     "data": {
      "text/html": [
       "<div>\n",
       "<style scoped>\n",
       "    .dataframe tbody tr th:only-of-type {\n",
       "        vertical-align: middle;\n",
       "    }\n",
       "\n",
       "    .dataframe tbody tr th {\n",
       "        vertical-align: top;\n",
       "    }\n",
       "\n",
       "    .dataframe thead th {\n",
       "        text-align: right;\n",
       "    }\n",
       "</style>\n",
       "<table border=\"1\" class=\"dataframe\">\n",
       "  <thead>\n",
       "    <tr style=\"text-align: right;\">\n",
       "      <th></th>\n",
       "      <th>closeTime</th>\n",
       "      <th>highPrice</th>\n",
       "      <th>lowPrice</th>\n",
       "      <th>openPrice</th>\n",
       "      <th>prevClosePrice</th>\n",
       "      <th>symbol</th>\n",
       "    </tr>\n",
       "  </thead>\n",
       "  <tbody>\n",
       "    <tr>\n",
       "      <th>466</th>\n",
       "      <td>2019-02-27 12:46:58.365</td>\n",
       "      <td>0.00016842</td>\n",
       "      <td>0.00016000</td>\n",
       "      <td>0.00016444</td>\n",
       "      <td>0.00016477</td>\n",
       "      <td>ONGBTC</td>\n",
       "    </tr>\n",
       "    <tr>\n",
       "      <th>467</th>\n",
       "      <td>2019-02-27 12:46:58.444</td>\n",
       "      <td>0.64030000</td>\n",
       "      <td>0.61260000</td>\n",
       "      <td>0.62390000</td>\n",
       "      <td>0.62730000</td>\n",
       "      <td>ONGUSDT</td>\n",
       "    </tr>\n",
       "    <tr>\n",
       "      <th>468</th>\n",
       "      <td>2019-02-27 12:46:57.612</td>\n",
       "      <td>0.00012444</td>\n",
       "      <td>0.00011555</td>\n",
       "      <td>0.00012284</td>\n",
       "      <td>0.00012270</td>\n",
       "      <td>HOTBNB</td>\n",
       "    </tr>\n",
       "    <tr>\n",
       "      <th>469</th>\n",
       "      <td>2019-02-27 12:46:58.284</td>\n",
       "      <td>0.00119770</td>\n",
       "      <td>0.00112840</td>\n",
       "      <td>0.00115140</td>\n",
       "      <td>0.00115050</td>\n",
       "      <td>HOTUSDT</td>\n",
       "    </tr>\n",
       "    <tr>\n",
       "      <th>470</th>\n",
       "      <td>2019-02-27 12:46:57.177</td>\n",
       "      <td>0.01797000</td>\n",
       "      <td>0.01686000</td>\n",
       "      <td>0.01715000</td>\n",
       "      <td>0.01715000</td>\n",
       "      <td>ZILUSDT</td>\n",
       "    </tr>\n",
       "  </tbody>\n",
       "</table>\n",
       "</div>"
      ],
      "text/plain": [
       "                  closeTime   highPrice    lowPrice   openPrice  \\\n",
       "466 2019-02-27 12:46:58.365  0.00016842  0.00016000  0.00016444   \n",
       "467 2019-02-27 12:46:58.444  0.64030000  0.61260000  0.62390000   \n",
       "468 2019-02-27 12:46:57.612  0.00012444  0.00011555  0.00012284   \n",
       "469 2019-02-27 12:46:58.284  0.00119770  0.00112840  0.00115140   \n",
       "470 2019-02-27 12:46:57.177  0.01797000  0.01686000  0.01715000   \n",
       "\n",
       "    prevClosePrice   symbol  \n",
       "466     0.00016477   ONGBTC  \n",
       "467     0.62730000  ONGUSDT  \n",
       "468     0.00012270   HOTBNB  \n",
       "469     0.00115050  HOTUSDT  \n",
       "470     0.01715000  ZILUSDT  "
      ]
     },
     "execution_count": 17,
     "metadata": {},
     "output_type": "execute_result"
    }
   ],
   "source": [
    "ohlc_df.tail()"
   ]
  },
  {
   "cell_type": "code",
   "execution_count": 18,
   "metadata": {},
   "outputs": [],
   "source": [
    "bnb_check = lambda symbol: symbol.endswith('BNB')\n",
    "bnb_market = ohlc_df.loc[ohlc_df['symbol'].apply(bnb_check)]"
   ]
  },
  {
   "cell_type": "code",
   "execution_count": 23,
   "metadata": {},
   "outputs": [
    {
     "data": {
      "text/html": [
       "<div>\n",
       "<style scoped>\n",
       "    .dataframe tbody tr th:only-of-type {\n",
       "        vertical-align: middle;\n",
       "    }\n",
       "\n",
       "    .dataframe tbody tr th {\n",
       "        vertical-align: top;\n",
       "    }\n",
       "\n",
       "    .dataframe thead th {\n",
       "        text-align: right;\n",
       "    }\n",
       "</style>\n",
       "<table border=\"1\" class=\"dataframe\">\n",
       "  <thead>\n",
       "    <tr style=\"text-align: right;\">\n",
       "      <th></th>\n",
       "      <th>closeTime</th>\n",
       "      <th>highPrice</th>\n",
       "      <th>lowPrice</th>\n",
       "      <th>openPrice</th>\n",
       "      <th>prevClosePrice</th>\n",
       "      <th>symbol</th>\n",
       "    </tr>\n",
       "  </thead>\n",
       "  <tbody>\n",
       "    <tr>\n",
       "      <th>99</th>\n",
       "      <td>2019-01-21 08:23:54.176</td>\n",
       "      <td>0.00000000</td>\n",
       "      <td>0.00000000</td>\n",
       "      <td>0.00000000</td>\n",
       "      <td>0.14920000</td>\n",
       "      <td>VENBNB</td>\n",
       "    </tr>\n",
       "    <tr>\n",
       "      <th>100</th>\n",
       "      <td>2019-02-27 12:46:30.298</td>\n",
       "      <td>0.00178400</td>\n",
       "      <td>0.00165800</td>\n",
       "      <td>0.00176100</td>\n",
       "      <td>0.00176300</td>\n",
       "      <td>YOYOBNB</td>\n",
       "    </tr>\n",
       "    <tr>\n",
       "      <th>101</th>\n",
       "      <td>2019-02-27 12:46:55.161</td>\n",
       "      <td>0.01021000</td>\n",
       "      <td>0.00934000</td>\n",
       "      <td>0.00934000</td>\n",
       "      <td>0.00933000</td>\n",
       "      <td>POWRBNB</td>\n",
       "    </tr>\n",
       "    <tr>\n",
       "      <th>106</th>\n",
       "      <td>2019-02-27 12:46:54.522</td>\n",
       "      <td>0.04435000</td>\n",
       "      <td>0.04256000</td>\n",
       "      <td>0.04359000</td>\n",
       "      <td>0.04373000</td>\n",
       "      <td>NULSBNB</td>\n",
       "    </tr>\n",
       "    <tr>\n",
       "      <th>109</th>\n",
       "      <td>2019-02-27 12:46:52.901</td>\n",
       "      <td>0.00229800</td>\n",
       "      <td>0.00199500</td>\n",
       "      <td>0.00225400</td>\n",
       "      <td>0.00225800</td>\n",
       "      <td>RCNBNB</td>\n",
       "    </tr>\n",
       "  </tbody>\n",
       "</table>\n",
       "</div>"
      ],
      "text/plain": [
       "                  closeTime   highPrice    lowPrice   openPrice  \\\n",
       "99  2019-01-21 08:23:54.176  0.00000000  0.00000000  0.00000000   \n",
       "100 2019-02-27 12:46:30.298  0.00178400  0.00165800  0.00176100   \n",
       "101 2019-02-27 12:46:55.161  0.01021000  0.00934000  0.00934000   \n",
       "106 2019-02-27 12:46:54.522  0.04435000  0.04256000  0.04359000   \n",
       "109 2019-02-27 12:46:52.901  0.00229800  0.00199500  0.00225400   \n",
       "\n",
       "    prevClosePrice   symbol  \n",
       "99      0.14920000   VENBNB  \n",
       "100     0.00176300  YOYOBNB  \n",
       "101     0.00933000  POWRBNB  \n",
       "106     0.04373000  NULSBNB  \n",
       "109     0.00225800   RCNBNB  "
      ]
     },
     "execution_count": 23,
     "metadata": {},
     "output_type": "execute_result"
    }
   ],
   "source": [
    "bnb_market.head()"
   ]
  },
  {
   "cell_type": "markdown",
   "metadata": {},
   "source": [
    "### Filter penny coins (lower than 10 BNBs)"
   ]
  },
  {
   "cell_type": "code",
   "execution_count": 34,
   "metadata": {},
   "outputs": [],
   "source": [
    "import ast\n",
    "penny_coins = bnb_market[bnb_market['prevClosePrice'].apply(ast.literal_eval) < 10]"
   ]
  },
  {
   "cell_type": "code",
   "execution_count": 39,
   "metadata": {},
   "outputs": [
    {
     "data": {
      "text/html": [
       "<div>\n",
       "<style scoped>\n",
       "    .dataframe tbody tr th:only-of-type {\n",
       "        vertical-align: middle;\n",
       "    }\n",
       "\n",
       "    .dataframe tbody tr th {\n",
       "        vertical-align: top;\n",
       "    }\n",
       "\n",
       "    .dataframe thead th {\n",
       "        text-align: right;\n",
       "    }\n",
       "</style>\n",
       "<table border=\"1\" class=\"dataframe\">\n",
       "  <thead>\n",
       "    <tr style=\"text-align: right;\">\n",
       "      <th></th>\n",
       "      <th>closeTime</th>\n",
       "      <th>highPrice</th>\n",
       "      <th>lowPrice</th>\n",
       "      <th>openPrice</th>\n",
       "      <th>prevClosePrice</th>\n",
       "      <th>symbol</th>\n",
       "    </tr>\n",
       "  </thead>\n",
       "  <tbody>\n",
       "    <tr>\n",
       "      <th>311</th>\n",
       "      <td>2019-01-21 08:24:35.447</td>\n",
       "      <td>0.00000000</td>\n",
       "      <td>0.00000000</td>\n",
       "      <td>0.00000000</td>\n",
       "      <td>0.00002000</td>\n",
       "      <td>BCNBNB</td>\n",
       "    </tr>\n",
       "    <tr>\n",
       "      <th>454</th>\n",
       "      <td>2019-02-27 12:46:57.203</td>\n",
       "      <td>0.00009391</td>\n",
       "      <td>0.00008888</td>\n",
       "      <td>0.00009003</td>\n",
       "      <td>0.00009001</td>\n",
       "      <td>BTTBNB</td>\n",
       "    </tr>\n",
       "    <tr>\n",
       "      <th>468</th>\n",
       "      <td>2019-02-27 12:46:57.612</td>\n",
       "      <td>0.00012444</td>\n",
       "      <td>0.00011555</td>\n",
       "      <td>0.00012284</td>\n",
       "      <td>0.00012270</td>\n",
       "      <td>HOTBNB</td>\n",
       "    </tr>\n",
       "    <tr>\n",
       "      <th>267</th>\n",
       "      <td>2019-02-27 12:46:55.366</td>\n",
       "      <td>0.00018300</td>\n",
       "      <td>0.00017300</td>\n",
       "      <td>0.00018000</td>\n",
       "      <td>0.00018000</td>\n",
       "      <td>NCASHBNB</td>\n",
       "    </tr>\n",
       "    <tr>\n",
       "      <th>357</th>\n",
       "      <td>2019-02-27 12:44:47.778</td>\n",
       "      <td>0.00025700</td>\n",
       "      <td>0.00024500</td>\n",
       "      <td>0.00025300</td>\n",
       "      <td>0.00025300</td>\n",
       "      <td>SCBNB</td>\n",
       "    </tr>\n",
       "  </tbody>\n",
       "</table>\n",
       "</div>"
      ],
      "text/plain": [
       "                  closeTime   highPrice    lowPrice   openPrice  \\\n",
       "311 2019-01-21 08:24:35.447  0.00000000  0.00000000  0.00000000   \n",
       "454 2019-02-27 12:46:57.203  0.00009391  0.00008888  0.00009003   \n",
       "468 2019-02-27 12:46:57.612  0.00012444  0.00011555  0.00012284   \n",
       "267 2019-02-27 12:46:55.366  0.00018300  0.00017300  0.00018000   \n",
       "357 2019-02-27 12:44:47.778  0.00025700  0.00024500  0.00025300   \n",
       "\n",
       "    prevClosePrice    symbol  \n",
       "311     0.00002000    BCNBNB  \n",
       "454     0.00009001    BTTBNB  \n",
       "468     0.00012270    HOTBNB  \n",
       "267     0.00018000  NCASHBNB  \n",
       "357     0.00025300     SCBNB  "
      ]
     },
     "execution_count": 39,
     "metadata": {},
     "output_type": "execute_result"
    }
   ],
   "source": [
    "# check if values over 10 are displaying\n",
    "penny_coins.sort_values('prevClosePrice').head()"
   ]
  },
  {
   "cell_type": "code",
   "execution_count": 41,
   "metadata": {},
   "outputs": [
    {
     "data": {
      "text/plain": [
       "<matplotlib.axes._subplots.AxesSubplot at 0x2a9a703fe10>"
      ]
     },
     "execution_count": 41,
     "metadata": {},
     "output_type": "execute_result"
    },
    {
     "data": {
      "image/png": "[encoded data removed]",
      "text/plain": [
       "<matplotlib.figure.Figure at 0x2a9a5bb67f0>"
      ]
     },
     "metadata": {},
     "output_type": "display_data"
    }
   ],
   "source": [
    "penny_coins.plot()"
   ]
  },
  {
   "cell_type": "code",
   "execution_count": null,
   "metadata": {},
   "outputs": [],
   "source": []
  }
 ],
 "metadata": {
  "kernelspec": {
   "display_name": "Python 3",
   "language": "python",
   "name": "python3"
  },
  "language_info": {
   "codemirror_mode": {
    "name": "ipython",
    "version": 3
   },
   "file_extension": ".py",
   "mimetype": "text/x-python",
   "name": "python",
   "nbconvert_exporter": "python",
   "pygments_lexer": "ipython3",
   "version": "3.6.4"
  }
 },
 "nbformat": 4,
 "nbformat_minor": 2
}
